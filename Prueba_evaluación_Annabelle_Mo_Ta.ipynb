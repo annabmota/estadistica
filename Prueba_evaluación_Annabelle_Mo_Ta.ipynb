{
 "cells": [
  {
   "cell_type": "markdown",
   "id": "c31de552",
   "metadata": {},
   "source": [
    "# Ejercicio 1"
   ]
  },
  {
   "cell_type": "markdown",
   "id": "b9d5a274",
   "metadata": {},
   "source": [
    "## a) Obtener, usando algún programa estadístico, las medidas de centralización y dispersión para cada uno de los dos grupos de control de la variable (grupo 1 y grupo 2) que mide la presión sistólica antes de la toma del medicamento e indica si la media en cada uno de estos grupos puede considerarse representativa a partir de los datos obtenidos. "
   ]
  },
  {
   "cell_type": "code",
   "execution_count": 1,
   "id": "d4e37d38",
   "metadata": {},
   "outputs": [
    {
     "name": "stdout",
     "output_type": "stream",
     "text": [
      "    Grupo  Edad  Presion sistólica antes  Presión sistólica después  \\\n",
      "0       1    30                      126                        118   \n",
      "1       1    25                      114                        110   \n",
      "2       1    27                      110                        110   \n",
      "3       1    34                      108                        105   \n",
      "4       1    35                      131                        132   \n",
      "..    ...   ...                      ...                        ...   \n",
      "95      2    54                      117                        100   \n",
      "96      2    50                      148                        141   \n",
      "97      2    54                      121                        115   \n",
      "98      2    52                      154                        155   \n",
      "99      2    46                      120                        116   \n",
      "\n",
      "    Colesterol total  \n",
      "0                191  \n",
      "1                181  \n",
      "2                175  \n",
      "3                173  \n",
      "4                200  \n",
      "..               ...  \n",
      "95               194  \n",
      "96               239  \n",
      "97               196  \n",
      "98               270  \n",
      "99               214  \n",
      "\n",
      "[100 rows x 5 columns]\n"
     ]
    }
   ],
   "source": [
    "# Cargamos los datos desde el archivo Excel\n",
    "import pandas as pd\n",
    "import numpy as np\n",
    "BBDD = pd.read_excel(\"HIPERTENSION.xlsx\") \n",
    "print(BBDD)"
   ]
  },
  {
   "cell_type": "code",
   "execution_count": 2,
   "id": "3bbbb8b8",
   "metadata": {},
   "outputs": [],
   "source": [
    "# Dividir la base de datos en dos grupos según la variable \"Grupo\"\n",
    "Grupo_1 = BBDD[BBDD[\"Grupo\"] == 1]\n",
    "Grupo_2 = BBDD[BBDD[\"Grupo\"] == 2]\n",
    "\n",
    "# Calcular los estadísticos principales para cada grupo\n",
    "summary_stats_1 = Grupo_1.describe()\n",
    "summary_stats_2 = Grupo_2.describe()"
   ]
  },
  {
   "cell_type": "code",
   "execution_count": 3,
   "id": "2ff0e11c",
   "metadata": {},
   "outputs": [
    {
     "data": {
      "text/html": [
       "<div>\n",
       "<style scoped>\n",
       "    .dataframe tbody tr th:only-of-type {\n",
       "        vertical-align: middle;\n",
       "    }\n",
       "\n",
       "    .dataframe tbody tr th {\n",
       "        vertical-align: top;\n",
       "    }\n",
       "\n",
       "    .dataframe thead th {\n",
       "        text-align: right;\n",
       "    }\n",
       "</style>\n",
       "<table border=\"1\" class=\"dataframe\">\n",
       "  <thead>\n",
       "    <tr style=\"text-align: right;\">\n",
       "      <th></th>\n",
       "      <th>Grupo</th>\n",
       "      <th>Edad</th>\n",
       "      <th>Presion sistólica antes</th>\n",
       "      <th>Presión sistólica después</th>\n",
       "      <th>Colesterol total</th>\n",
       "    </tr>\n",
       "  </thead>\n",
       "  <tbody>\n",
       "    <tr>\n",
       "      <th>count</th>\n",
       "      <td>40.0</td>\n",
       "      <td>40.000000</td>\n",
       "      <td>40.000000</td>\n",
       "      <td>40.0000</td>\n",
       "      <td>40.000000</td>\n",
       "    </tr>\n",
       "    <tr>\n",
       "      <th>mean</th>\n",
       "      <td>1.0</td>\n",
       "      <td>26.550000</td>\n",
       "      <td>123.425000</td>\n",
       "      <td>119.9000</td>\n",
       "      <td>187.275000</td>\n",
       "    </tr>\n",
       "    <tr>\n",
       "      <th>std</th>\n",
       "      <td>0.0</td>\n",
       "      <td>5.232786</td>\n",
       "      <td>9.026705</td>\n",
       "      <td>9.3337</td>\n",
       "      <td>11.668471</td>\n",
       "    </tr>\n",
       "    <tr>\n",
       "      <th>min</th>\n",
       "      <td>1.0</td>\n",
       "      <td>18.000000</td>\n",
       "      <td>105.000000</td>\n",
       "      <td>103.0000</td>\n",
       "      <td>164.000000</td>\n",
       "    </tr>\n",
       "    <tr>\n",
       "      <th>25%</th>\n",
       "      <td>1.0</td>\n",
       "      <td>22.000000</td>\n",
       "      <td>117.500000</td>\n",
       "      <td>113.7500</td>\n",
       "      <td>179.750000</td>\n",
       "    </tr>\n",
       "    <tr>\n",
       "      <th>50%</th>\n",
       "      <td>1.0</td>\n",
       "      <td>27.000000</td>\n",
       "      <td>124.500000</td>\n",
       "      <td>120.0000</td>\n",
       "      <td>185.000000</td>\n",
       "    </tr>\n",
       "    <tr>\n",
       "      <th>75%</th>\n",
       "      <td>1.0</td>\n",
       "      <td>30.250000</td>\n",
       "      <td>129.000000</td>\n",
       "      <td>125.5000</td>\n",
       "      <td>193.250000</td>\n",
       "    </tr>\n",
       "    <tr>\n",
       "      <th>max</th>\n",
       "      <td>1.0</td>\n",
       "      <td>35.000000</td>\n",
       "      <td>142.000000</td>\n",
       "      <td>142.0000</td>\n",
       "      <td>214.000000</td>\n",
       "    </tr>\n",
       "  </tbody>\n",
       "</table>\n",
       "</div>"
      ],
      "text/plain": [
       "       Grupo       Edad  Presion sistólica antes  Presión sistólica después  \\\n",
       "count   40.0  40.000000                40.000000                    40.0000   \n",
       "mean     1.0  26.550000               123.425000                   119.9000   \n",
       "std      0.0   5.232786                 9.026705                     9.3337   \n",
       "min      1.0  18.000000               105.000000                   103.0000   \n",
       "25%      1.0  22.000000               117.500000                   113.7500   \n",
       "50%      1.0  27.000000               124.500000                   120.0000   \n",
       "75%      1.0  30.250000               129.000000                   125.5000   \n",
       "max      1.0  35.000000               142.000000                   142.0000   \n",
       "\n",
       "       Colesterol total  \n",
       "count         40.000000  \n",
       "mean         187.275000  \n",
       "std           11.668471  \n",
       "min          164.000000  \n",
       "25%          179.750000  \n",
       "50%          185.000000  \n",
       "75%          193.250000  \n",
       "max          214.000000  "
      ]
     },
     "execution_count": 3,
     "metadata": {},
     "output_type": "execute_result"
    }
   ],
   "source": [
    "summary_stats_1"
   ]
  },
  {
   "cell_type": "code",
   "execution_count": 13,
   "id": "8c6d3229",
   "metadata": {},
   "outputs": [
    {
     "name": "stdout",
     "output_type": "stream",
     "text": [
      "Moda de la presión sistólica antes del medicamento en el Grupo 1: 121\n"
     ]
    }
   ],
   "source": [
    "# Calcular la moda para el Grupo 1\n",
    "# Ordenar los datos para facilitar la identificación de la moda\n",
    "Grupo_1 = Grupo_1.sort_values(by='Presion sistólica antes')\n",
    "moda_1_ant = Grupo_1['Presion sistólica antes'].mode()[0]\n",
    "print(f'Moda de la presión sistólica antes del medicamento en el Grupo 1: {moda_1_ant}')"
   ]
  },
  {
   "cell_type": "code",
   "execution_count": 7,
   "id": "eb2e9d34",
   "metadata": {},
   "outputs": [
    {
     "name": "stdout",
     "output_type": "stream",
     "text": [
      "Rango de la presión sistólica del Grupo 1 antes del medicamento: 37.0\n",
      "Rango Intercuartílico de la presión sistólica del Grupo 1 antes del medicamento: 11.5\n"
     ]
    }
   ],
   "source": [
    "# Calculamos el rango total y el rango intercuartílico para el Grupo 1 antes del medicamento\n",
    "Rango_1 = summary_stats_1.loc['max', 'Presion sistólica antes'] - summary_stats_1.loc['min', 'Presion sistólica antes']\n",
    "RIC_1 = summary_stats_1.loc['75%', 'Presion sistólica antes'] - summary_stats_1.loc['25%', 'Presion sistólica antes']\n",
    "print(f'Rango de la presión sistólica del Grupo 1 antes del medicamento: {Rango_1}')\n",
    "print(f'Rango Intercuartílico de la presión sistólica del Grupo 1 antes del medicamento: {RIC_1}')"
   ]
  },
  {
   "cell_type": "markdown",
   "id": "ef67c3a7",
   "metadata": {},
   "source": [
    "Al analizar las estadísticas descriptivas del grupo 1, se observa que la media (123.425 mmHg) y la mediana (124.5 mmHg) presentan valores muy similares, lo que sugiere que los datos se encuentran centralizados. El valor que más se repite (moda) en los jóvenes es de 121mmHg. \n",
    "\n",
    "El rango total de la presión sistólica antes de la toma del medicamento es de 37 mmHg, lo que indica cierta variabilidad entre los individuos. Sin embargo, el rango intercuartílico (IQR = 11,5 mmHg) sugiere que la mayoría de los valores se encuentran relativamente próximos entre sí, y que la amplitud del rango total se debe probablemente a algunos valores extremos aislados.\n",
    "\n",
    "En cuanto a la dispersión, la desviación típica (9.03 mmHg) indica una variabilidad moderada respecto a la media. Estos resultados proporcionan una primera aproximación a la distribución de los datos, aunque completaremos el análisis con representaciones gráficas o pruebas adicionales para obtener conclusiones más precisas."
   ]
  },
  {
   "cell_type": "code",
   "execution_count": 8,
   "id": "5e0088d3",
   "metadata": {},
   "outputs": [
    {
     "data": {
      "text/html": [
       "<div>\n",
       "<style scoped>\n",
       "    .dataframe tbody tr th:only-of-type {\n",
       "        vertical-align: middle;\n",
       "    }\n",
       "\n",
       "    .dataframe tbody tr th {\n",
       "        vertical-align: top;\n",
       "    }\n",
       "\n",
       "    .dataframe thead th {\n",
       "        text-align: right;\n",
       "    }\n",
       "</style>\n",
       "<table border=\"1\" class=\"dataframe\">\n",
       "  <thead>\n",
       "    <tr style=\"text-align: right;\">\n",
       "      <th></th>\n",
       "      <th>Grupo</th>\n",
       "      <th>Edad</th>\n",
       "      <th>Presion sistólica antes</th>\n",
       "      <th>Presión sistólica después</th>\n",
       "      <th>Colesterol total</th>\n",
       "    </tr>\n",
       "  </thead>\n",
       "  <tbody>\n",
       "    <tr>\n",
       "      <th>count</th>\n",
       "      <td>60.0</td>\n",
       "      <td>60.000000</td>\n",
       "      <td>60.000000</td>\n",
       "      <td>60.000000</td>\n",
       "      <td>60.00000</td>\n",
       "    </tr>\n",
       "    <tr>\n",
       "      <th>mean</th>\n",
       "      <td>2.0</td>\n",
       "      <td>57.200000</td>\n",
       "      <td>127.483333</td>\n",
       "      <td>123.450000</td>\n",
       "      <td>202.20000</td>\n",
       "    </tr>\n",
       "    <tr>\n",
       "      <th>std</th>\n",
       "      <td>0.0</td>\n",
       "      <td>12.735643</td>\n",
       "      <td>13.888773</td>\n",
       "      <td>17.395134</td>\n",
       "      <td>32.38738</td>\n",
       "    </tr>\n",
       "    <tr>\n",
       "      <th>min</th>\n",
       "      <td>2.0</td>\n",
       "      <td>36.000000</td>\n",
       "      <td>96.000000</td>\n",
       "      <td>77.000000</td>\n",
       "      <td>150.00000</td>\n",
       "    </tr>\n",
       "    <tr>\n",
       "      <th>25%</th>\n",
       "      <td>2.0</td>\n",
       "      <td>49.000000</td>\n",
       "      <td>118.750000</td>\n",
       "      <td>115.000000</td>\n",
       "      <td>179.75000</td>\n",
       "    </tr>\n",
       "    <tr>\n",
       "      <th>50%</th>\n",
       "      <td>2.0</td>\n",
       "      <td>56.000000</td>\n",
       "      <td>126.000000</td>\n",
       "      <td>121.000000</td>\n",
       "      <td>195.00000</td>\n",
       "    </tr>\n",
       "    <tr>\n",
       "      <th>75%</th>\n",
       "      <td>2.0</td>\n",
       "      <td>66.500000</td>\n",
       "      <td>138.250000</td>\n",
       "      <td>135.000000</td>\n",
       "      <td>215.25000</td>\n",
       "    </tr>\n",
       "    <tr>\n",
       "      <th>max</th>\n",
       "      <td>2.0</td>\n",
       "      <td>86.000000</td>\n",
       "      <td>154.000000</td>\n",
       "      <td>161.000000</td>\n",
       "      <td>298.00000</td>\n",
       "    </tr>\n",
       "  </tbody>\n",
       "</table>\n",
       "</div>"
      ],
      "text/plain": [
       "       Grupo       Edad  Presion sistólica antes  Presión sistólica después  \\\n",
       "count   60.0  60.000000                60.000000                  60.000000   \n",
       "mean     2.0  57.200000               127.483333                 123.450000   \n",
       "std      0.0  12.735643                13.888773                  17.395134   \n",
       "min      2.0  36.000000                96.000000                  77.000000   \n",
       "25%      2.0  49.000000               118.750000                 115.000000   \n",
       "50%      2.0  56.000000               126.000000                 121.000000   \n",
       "75%      2.0  66.500000               138.250000                 135.000000   \n",
       "max      2.0  86.000000               154.000000                 161.000000   \n",
       "\n",
       "       Colesterol total  \n",
       "count          60.00000  \n",
       "mean          202.20000  \n",
       "std            32.38738  \n",
       "min           150.00000  \n",
       "25%           179.75000  \n",
       "50%           195.00000  \n",
       "75%           215.25000  \n",
       "max           298.00000  "
      ]
     },
     "execution_count": 8,
     "metadata": {},
     "output_type": "execute_result"
    }
   ],
   "source": [
    "summary_stats_2"
   ]
  },
  {
   "cell_type": "code",
   "execution_count": 15,
   "id": "65775fd5",
   "metadata": {},
   "outputs": [
    {
     "name": "stdout",
     "output_type": "stream",
     "text": [
      "Moda de la presión sistólica antes del medicamento en el Grupo 2: 121\n"
     ]
    }
   ],
   "source": [
    "# Calcular la moda para el Grupo 2 antes del medicamento\n",
    "Grupo_2 = Grupo_2.sort_values(by='Presion sistólica antes')\n",
    "moda_2_ant = Grupo_2['Presion sistólica antes'].mode()[0]\n",
    "print(f'Moda de la presión sistólica antes del medicamento en el Grupo 2: {moda_2_ant}')"
   ]
  },
  {
   "cell_type": "code",
   "execution_count": 26,
   "id": "78ce3de7",
   "metadata": {},
   "outputs": [
    {
     "name": "stdout",
     "output_type": "stream",
     "text": [
      "Rango de la presión sistólica del Grupo 2 antes del medicamento: 58.0\n",
      "Rango Intercuartílico de la presión sistólica del Grupo 2 antes del medicamento: 19.5\n"
     ]
    }
   ],
   "source": [
    "# Calculamos el rango total y el rango intercuartílico para el Grupo 2\n",
    "Rango_2 = summary_stats_2.loc['max', 'Presion sistólica antes'] - summary_stats_2.loc['min', 'Presion sistólica antes']\n",
    "RIC_2 = summary_stats_2.loc['75%', 'Presion sistólica antes'] - summary_stats_2.loc['25%', 'Presion sistólica antes']\n",
    "print(f'Rango de la presión sistólica del Grupo 2 antes del medicamento: {Rango_2}')\n",
    "print(f'Rango Intercuartílico de la presión sistólica del Grupo 2 antes del medicamento: {RIC_2}')"
   ]
  },
  {
   "cell_type": "markdown",
   "id": "a1a5f9f3",
   "metadata": {},
   "source": [
    "En el grupo 2 se observa que la media (127.48 mmHg) y la mediana (126 mmHg) difieren ligeramente más que en el grupo 1, lo que sugiere una distribución algo menos simétrica. Al igual que en el grupo 1, el valor que más se repite en los individuos es de 121 mmHg.\n",
    "\n",
    "Los datos presentan una mayor dispersión, con valores comprendidos entre un mínimo de 96 mmHg y un máximo de 154 mmHg. Tanto el rango total como el rango intercuartílico son superiores a los del grupo 1, lo que indica que la presión sistólica en este grupo se encuentra más dispersa y presenta una variabilidad más elevada. La desviación típica (13.89 mmHg) también resulta superior a la del grupo 1, lo que indica una variabilidad más elevada en las mediciones de este grupo. \n",
    "\n",
    "Para analizar si la media es representativa, calcularemos el coeficiente de variación (se suele considerar que la media es representativa si el coeficiente de variación es menor que 0.3). \n",
    "\n",
    "$$\n",
    "CV = \\frac{s}{\\bar{x}}\n",
    "$$"
   ]
  },
  {
   "cell_type": "code",
   "execution_count": 17,
   "id": "9d27e49a",
   "metadata": {},
   "outputs": [
    {
     "name": "stdout",
     "output_type": "stream",
     "text": [
      "Coeficiente de Variación del Grupo 1: 0.07\n",
      "Coeficiente de Variación del Grupo 2: 0.11\n"
     ]
    }
   ],
   "source": [
    "# Cálculo del Coeficiente de Variación para ambos grupos\n",
    "CV_1 = (Grupo_1['Presion sistólica antes'].std() / Grupo_1['Presion sistólica antes'].mean())\n",
    "CV_2 = (Grupo_2['Presion sistólica antes'].std() / Grupo_2['Presion sistólica antes'].mean())\n",
    "\n",
    "print(f'Coeficiente de Variación del Grupo 1: {CV_1:.2f}')\n",
    "print(f'Coeficiente de Variación del Grupo 2: {CV_2:.2f}')"
   ]
  },
  {
   "cell_type": "markdown",
   "id": "d3aedde0",
   "metadata": {},
   "source": [
    "Como ambos coeficientes de variación son menores que 0.3 podemos considerar que ambas medias son representativas."
   ]
  },
  {
   "cell_type": "markdown",
   "id": "fcaefc39",
   "metadata": {},
   "source": [
    "## b) Estudiar la simetría y la curtosis del nivel de presión sistólica en los pacientes del segundo grupo para cada una de las mediciones de la hipertensión que aparecen en la tabla interpretando los valores obtenidos. "
   ]
  },
  {
   "cell_type": "markdown",
   "id": "d3bacaa4",
   "metadata": {},
   "source": [
    "Como punto de partida, se observa que ambos grupos presentan valores de media y mediana bastante próximos, lo que sugiere una distribución relativamente simétrica en general.\n",
    "\n",
    "En el grupo 2, la presión sistólica antes de la toma del medicamento presenta una media de 127.48 mmHg y una mediana de 126 mmHg. Dado que la media es ligeramente mayor que la mediana, puede inferirse una leve asimetría positiva en la distribución.\n",
    "\n",
    "Para confirmar nuestras hipótesis iniciales, calcularemos las medidas de asimetría."
   ]
  },
  {
   "cell_type": "code",
   "execution_count": 18,
   "id": "f2578ff5",
   "metadata": {},
   "outputs": [
    {
     "name": "stdout",
     "output_type": "stream",
     "text": [
      "Asimetría del Grupo 2 antes: -0.14\n",
      "Asimetría del Grupo 2 después: -0.19\n"
     ]
    }
   ],
   "source": [
    "# Asimetría del Grupo 2\n",
    "skew_2_ant = Grupo_2['Presion sistólica antes'].skew()\n",
    "skew_2_des = Grupo_2['Presión sistólica después'].skew()\n",
    "print(f'Asimetría del Grupo 2 antes: {skew_2_ant:.2f}')\n",
    "print(f'Asimetría del Grupo 2 después: {skew_2_des:.2f}')"
   ]
  },
  {
   "cell_type": "markdown",
   "id": "86de97ab",
   "metadata": {},
   "source": [
    "Según los coeficientes de asimetría obtenidos, ambos grupos presentan una ligera asimetría negativa, dado que los valores son menores que cero. Esto indica que las distribuciones tienden levemente hacia la izquierda. Sin embargo, al ser los coeficientes próximos a cero y teniendo conclusiones ambiguas, puede considerarse que los datos presentan una distribución aproximadamente simétrica.\n",
    "\n",
    "Para comprobar visualmente esta tendencia, se representarán los resultados mediante un diagrama de barras que facilite la comparación entre ambos grupos."
   ]
  },
  {
   "cell_type": "code",
   "execution_count": 25,
   "id": "bf24c742",
   "metadata": {},
   "outputs": [
    {
     "data": {
      "image/png": "[encoded data removed]",
      "text/plain": [
       "<Figure size 640x480 with 1 Axes>"
      ]
     },
     "metadata": {},
     "output_type": "display_data"
    }
   ],
   "source": [
    "# Gráficas de barras para el Grupo 2 antes del medicamento\n",
    "import matplotlib.pyplot as plt\n",
    "import seaborn as sns\n",
    "barras_ant = sns.histplot(Grupo_2['Presion sistólica antes'], kde=True, color='red', bins=10)\n",
    "plt.title('Distribución de la Presión Sistólica Antes del Medicamento - Grupo 2')\n",
    "plt.ylabel('Frecuencia')\n",
    "plt.xlabel('Presión Sistólica Antes (mmHg)') \n",
    "plt.show()"
   ]
  },
  {
   "cell_type": "code",
   "execution_count": 22,
   "id": "64346a1a",
   "metadata": {},
   "outputs": [
    {
     "data": {
      "image/png": "[encoded data removed]",
      "text/plain": [
       "<Figure size 640x480 with 1 Axes>"
      ]
     },
     "metadata": {},
     "output_type": "display_data"
    }
   ],
   "source": [
    "# Gráficas de barras para el Grupo 2 antes del medicamento\n",
    "barras_des = sns.histplot(Grupo_2['Presión sistólica después'], kde=True, color='blue', bins=10)\n",
    "plt.title('Distribución de la Presión Sistólica Después del Medicamento - Grupo 2')\n",
    "plt.ylabel('Frecuencia')\n",
    "plt.xlabel('Presión Sistólica Después (mmHg)') \n",
    "plt.show()"
   ]
  },
  {
   "cell_type": "markdown",
   "id": "3dadea17",
   "metadata": {},
   "source": [
    "Se observa que la distribución de los valores de presión sistólica antes de la toma del medicamento es más centralizada que después de la toma. Esta diferencia podría deberse a que el efecto del medicamento varía entre individuos, generando respuestas distintas. En algunos casos, el fármaco puede producir cambios más pronunciados o incluso efectos adversos, lo que explicaría el aumento en la dispersión de los valores después de la toma del medicamento.\n",
    "\n",
    "Ahora estudiaremos la concentración de dichos valores alrededor de la media con el análisis de la curtosis de los datos."
   ]
  },
  {
   "cell_type": "code",
   "execution_count": 27,
   "id": "829d4813",
   "metadata": {},
   "outputs": [
    {
     "name": "stdout",
     "output_type": "stream",
     "text": [
      "Curtosis del Grupo 2 antes: -0.60\n",
      "Curtosis del Grupo 2 después: 0.37\n"
     ]
    }
   ],
   "source": [
    "# Curtosis del Grupo 2\n",
    "kurt_2_ant = Grupo_2['Presion sistólica antes'].kurtosis()\n",
    "kurt_2_des = Grupo_2['Presión sistólica después'].kurtosis()\n",
    "print(f'Curtosis del Grupo 2 antes: {kurt_2_ant:.2f}')\n",
    "print(f'Curtosis del Grupo 2 después: {kurt_2_des:.2f}')    "
   ]
  },
  {
   "cell_type": "markdown",
   "id": "1712703d",
   "metadata": {},
   "source": [
    "Antes de la toma del medicamento, el coeficiente de curtosis presentaba un valor negativo, lo que indica una distribución platicúrtica, caracterizada por una forma más aplanada y con valores más concentrados alrededor de la media. En cambio, después de la administración del medicamento, el coeficiente se vuelve positivo, reflejando una distribución leptocúrtica, más apuntada y con colas más largas.\n",
    "\n",
    "Este cambio sugiere que, tras la toma del medicamento, los valores de presión sistólica tienden a alejarse más de la media, aumentando la presencia de observaciones extremas. Esto es coherente con los resultados previos, que mostraban una mayor dispersión y menor simetría en las mediciones posteriores. "
   ]
  },
  {
   "cell_type": "markdown",
   "id": "65fdcb1b",
   "metadata": {},
   "source": [
    "## c) Indicar para cada una de las variables relacionadas con la medición de la presión sistólica que aparecen en el fichero el valor de los cuartiles y su significado y obtener el box- plot ( diagrama de cajas) correspondiente. Estudiar la presencia de valores atípicos."
   ]
  },
  {
   "cell_type": "code",
   "execution_count": 28,
   "id": "ce2f57f3",
   "metadata": {},
   "outputs": [
    {
     "name": "stdout",
     "output_type": "stream",
     "text": [
      "Cuartiles de la Presión Sistólica Antes: \n",
      "0.25    118.0\n",
      "0.50    125.0\n",
      "0.75    135.0\n",
      "Name: Presion sistólica antes, dtype: float64\n",
      "Cuartiles de la Presión Sistólica Después: \n",
      "0.25    115.00\n",
      "0.50    120.00\n",
      "0.75    131.25\n",
      "Name: Presión sistólica después, dtype: float64\n"
     ]
    }
   ],
   "source": [
    "# Cálculo de los cuartiles para la presión sistólica\n",
    "cuartiles_ant = BBDD['Presion sistólica antes'].quantile([0.25, 0.5, 0.75])\n",
    "cuartiles_des = BBDD['Presión sistólica después'].quantile([0.25, 0.5, 0.75])\n",
    "print(f'Cuartiles de la Presión Sistólica Antes: \\n{cuartiles_ant}')\n",
    "print(f'Cuartiles de la Presión Sistólica Después: \\n{cuartiles_des}')"
   ]
  },
  {
   "cell_type": "markdown",
   "id": "7b117996",
   "metadata": {},
   "source": [
    "Antes del tratamiento, el primer cuartil (Q1 = 118 mmHg) indica que el 25% de los individuos tenía presiones sistólicas iguales o inferiores a ese valor. La mediana (Q2 = 125 mmHg) señala que la mitad de la muestra presentaba valores por debajo de 125 mmHg, mientras que el tercer cuartil (Q3 = 135 mmHg) muestra que el 75% de los participantes tenía presiones iguales o inferiores a dicho valor.\n",
    "\n",
    "Después del tratamiento, se observa un descenso generalizado en los valores: el primer cuartil disminuye a 115 mmHg, la mediana a 120 mmHg y el tercer cuartil a 131,25 mmHg.\n",
    "\n",
    "Esta reducción en los tres cuartiles sugiere un efecto reductor del medicamento sobre la presión sistólica, desplazando la distribución de los valores hacia niveles más bajos. Esto indica que el medicamento redujo la presión de forma bastante homogénea en la mayoría de los individuos, sin aumentar la dispersión general de los datos. Para observarlo de manera más clara, representaremos los valores en un diagrama de caja."
   ]
  },
  {
   "cell_type": "code",
   "execution_count": 29,
   "id": "5df04584",
   "metadata": {},
   "outputs": [
    {
     "data": {
      "image/png": "[encoded data removed]",
      "text/plain": [
       "<Figure size 640x480 with 1 Axes>"
      ]
     },
     "metadata": {},
     "output_type": "display_data"
    }
   ],
   "source": [
    "# Boxplot para visualizar los cuartiles antes y después del medicamento\n",
    "boxplot = sns.boxplot(data=BBDD[['Presion sistólica antes', 'Presión sistólica después']], palette=['lightcoral', 'lightblue'])\n",
    "plt.title('Diagrama de Caja de la Presión Sistólica Antes y Después del Medicamento')\n",
    "plt.ylabel('Presión Sistólica (mmHg)') \n",
    "plt.show()"
   ]
  },
  {
   "cell_type": "markdown",
   "id": "62fb2469",
   "metadata": {},
   "source": [
    "Al observar los dos gráficos generados, se aprecia claramente que la administración del medicamento produjo una reducción general en los niveles de presión sistólica. No obstante, el efecto parece variar según el individuo, lo cual resulta coherente si consideramos que el grupo 1 está compuesto por individuos de 35 años o menos, mientras que el grupo 2 incluye a personas mayores de 35 años.\n",
    "\n",
    "Es habitual que los individuos de mayor edad presenten otras condiciones de salud que puedan interferir en la eficacia del tratamiento, lo que explicaría la mayor dispersión observada y la presencia de valores atípicos. En el diagrama de caja correspondiente, se identifican cinco valores extremos tras la toma del medicamento. Para confirmar esta observación, se procederá al cálculo detallado de los valores atípicos en ambos momentos, antes y después de la administración.\n",
    "\n",
    "$$\n",
    "IQR = Q_3 - Q_1\n",
    "$$\n",
    "\n",
    "$$\n",
    "L_{\\text{inferior}} = Q_1 - 1.5 \\times IQR\n",
    "$$\n",
    "\n",
    "$$\n",
    "L_{\\text{superior}} = Q_3 + 1.5 \\times IQR\n",
    "$$\n",
    "Donde:\n",
    "- $Q_1$ es el primer cuartil (percentil 25),\n",
    "- $Q_3$ es el tercer cuartil (percentil 75),\n",
    "- $IQR$ representa el rango intercuartílico o la amplitud del 50% central de los datos,\n",
    "- $L_{\\text{inferior}}$ y $L_{\\text{superior}}$ son los límites que determinan la presencia de valores atípicos:  cualquier valor $x$ tal que $x < L_{\\text{inferior}}$ o $x > L_{\\text{superior}}$ se considera outlier."
   ]
  },
  {
   "cell_type": "code",
   "execution_count": 30,
   "id": "133874f6",
   "metadata": {},
   "outputs": [],
   "source": [
    "# Función para calcular outliers usando el método del IQR\n",
    "def calcular_outliers(df, variable):\n",
    "    Q1 = df[variable].quantile(0.25)\n",
    "    Q3 = df[variable].quantile(0.75)\n",
    "    IQR = Q3 - Q1\n",
    "    \n",
    "    limite_inferior = Q1 - 1.5 * IQR\n",
    "    limite_superior = Q3 + 1.5 * IQR\n",
    "    \n",
    "    outliers = df[(df[variable] < limite_inferior) | (df[variable] > limite_superior)]\n",
    "    \n",
    "    print(f\"\\n--- {variable.upper()} ---\")\n",
    "    print(f\"Límite inferior: {limite_inferior:.2f}\")\n",
    "    print(f\"Límite superior: {limite_superior:.2f}\")\n",
    "    print(f\"Valores atípicos encontrados: {len(outliers)}\")\n",
    "    print(outliers)\n",
    "    \n",
    "    return outliers"
   ]
  },
  {
   "cell_type": "code",
   "execution_count": 31,
   "id": "8d7eed10",
   "metadata": {},
   "outputs": [
    {
     "name": "stdout",
     "output_type": "stream",
     "text": [
      "\n",
      "--- PRESION SISTÓLICA ANTES ---\n",
      "Límite inferior: 92.50\n",
      "Límite superior: 160.50\n",
      "Valores atípicos encontrados: 0\n",
      "Empty DataFrame\n",
      "Columns: [Grupo, Edad, Presion sistólica antes, Presión sistólica después, Colesterol total]\n",
      "Index: []\n",
      "\n",
      "--- PRESIÓN SISTÓLICA DESPUÉS ---\n",
      "Límite inferior: 90.62\n",
      "Límite superior: 155.62\n",
      "Valores atípicos encontrados: 5\n",
      "    Grupo  Edad  Presion sistólica antes  Presión sistólica después  \\\n",
      "42      2    76                      151                        158   \n",
      "61      2    50                      153                        161   \n",
      "65      2    81                      105                         83   \n",
      "67      2    68                      121                         90   \n",
      "80      2    45                      100                         77   \n",
      "\n",
      "    Colesterol total  \n",
      "42               246  \n",
      "61               179  \n",
      "65               187  \n",
      "67               184  \n",
      "80               190  \n"
     ]
    }
   ],
   "source": [
    "# Outliers para la presión sistólica antes y después del medicamento en ambos grupos\n",
    "outliers_ant = calcular_outliers(BBDD, 'Presion sistólica antes')\n",
    "outliers_des = calcular_outliers(BBDD, 'Presión sistólica después')"
   ]
  },
  {
   "cell_type": "markdown",
   "id": "defb6bf7",
   "metadata": {},
   "source": [
    "Tal como se anticipaba, se identificaron cinco valores extremos tras la administración del medicamento. Estos casos podrían indicar que el fármaco tuvo un efecto adverso en dichos individuos (el fármaco hizo que su nivel de presión sistólica aumentara) o bien que no presentaban niveles elevados de presión sistólica antes del tratamiento (con valores de 105 mmHg, 121mmHg y 100 mmHg, respectivamente) y por lo tanto, el medicamento fue demasiado efectivo y redujo su presión sistólica considerablemente. \n",
    "\n",
    "En este sentido, es posible que estos participantes no cumplieran plenamente los criterios iniciales de selección, lo que podría afectar la representatividad de la muestra y explicar la presencia de estos valores atípicos."
   ]
  },
  {
   "cell_type": "markdown",
   "id": "44b54a33",
   "metadata": {},
   "source": [
    "## d) Estudiar la normalidad de los datos de las variables relacionadas con la medición de la presión sistólica."
   ]
  },
  {
   "cell_type": "markdown",
   "id": "e7a65246",
   "metadata": {},
   "source": [
    "La normalidad de los datos puede estudiarse tanto de manera gráfica como de manera analítica. En primer lugar, el análisis gráfico permite observar visualmente si la distribución de los valores se aproxima a una forma normal. Para ello, se emplea el Q-Q plot, que compara los cuantiles teóricos de una distribución normal con los cuantiles observados en la muestra.\n",
    "\n",
    "Si los puntos representados se alinean aproximadamente sobre la línea diagonal, puede considerarse que los datos siguen una distribución normal o cercana a la normalidad. En cambio, desviaciones notables de dicha línea indicarían la presencia de asimetrías, colas pronunciadas o valores atípicos, que alejarían los datos del comportamiento normal esperado."
   ]
  },
  {
   "cell_type": "code",
   "execution_count": 34,
   "id": "71520454",
   "metadata": {},
   "outputs": [
    {
     "data": {
      "image/png": "[encoded data removed]",
      "text/plain": [
       "<Figure size 640x480 with 1 Axes>"
      ]
     },
     "metadata": {},
     "output_type": "display_data"
    }
   ],
   "source": [
    "# Q-Q plot para evaluar la normalidad de los datos de presión sistólica antes del medicamento\n",
    "import statsmodels.api as sm\n",
    "qq_plt_ant = sm.qqplot(BBDD['Presion sistólica antes'], line ='s')\n",
    "plt.title('Q-Q Plot de la Presión Sistólica Antes del Medicamento')\n",
    "plt.ylabel('Cuantiles Muestrales')\n",
    "plt.xlabel('Cuantiles Teóricos')\n",
    "plt.show()"
   ]
  },
  {
   "cell_type": "markdown",
   "id": "54b1b3d6",
   "metadata": {},
   "source": [
    "Observamos que los puntos que representan los datos de la presión sistólica antes de la administración del fármaco, se alinean sobre la diagonal. Por lo tanto, podemos asumir que los datos se aproximan a la distribución normal o cercana a la normalidad."
   ]
  },
  {
   "cell_type": "code",
   "execution_count": 35,
   "id": "e4b52297",
   "metadata": {},
   "outputs": [
    {
     "data": {
      "image/png": "[encoded data removed]",
      "text/plain": [
       "<Figure size 640x480 with 1 Axes>"
      ]
     },
     "metadata": {},
     "output_type": "display_data"
    }
   ],
   "source": [
    "# Q-Q plot para evaluar la normalidad de los datos de presión sistólica después del medicamento\n",
    "qq_plt_des = sm.qqplot(BBDD['Presión sistólica después'], line ='s')\n",
    "plt.title('Q-Q Plot de la Presión Sistólica Después del Medicamento')\n",
    "plt.ylabel('Cuantiles Muestrales')\n",
    "plt.xlabel('Cuantiles Teóricos')\n",
    "plt.show()"
   ]
  },
  {
   "cell_type": "markdown",
   "id": "1517671c",
   "metadata": {},
   "source": [
    "En este caso, observamos que los puntos situados en los extremos se desvían de la línea teórica. Aunque la distribución puede aproximarse a una normal, la separación en los extremos se debe a la presencia de valores atípicos detectados previamente. Para comprobar la normalidad de los datos de forma analítica, se aplicará el test de Shapiro–Wilk.\n",
    "\n",
    "El test de Shapiro–Wilk es una prueba estadística de normalidad que permite comprobar si una muestra procede de una distribución normal.  \n",
    "\n",
    "\\begin{cases}\n",
    "H_0: \\text{los datos siguen una distribución normal} \\\\\n",
    "H_1: \\text{los datos no siguen una distribución normal}\n",
    "\\end{cases}\n",
    "\n",
    "El resultado principal del test es el p-valor:  \n",
    "- Si p > 0.05, no se rechaza H₀ → los datos pueden considerarse normales.  \n",
    "- Si p ≤ 0.05, se rechaza H₀ → los datos no son normales. "
   ]
  },
  {
   "cell_type": "code",
   "execution_count": 36,
   "id": "7c4f1bb1",
   "metadata": {},
   "outputs": [
    {
     "name": "stdout",
     "output_type": "stream",
     "text": [
      "Shapiro-Wilk Test para Presión Sistólica Antes: Estadístico=0.9919, p-valor=0.8156\n",
      "Shapiro-Wilk Test para Presión Sistólica Después: Estadístico=0.9789, p-valor=0.1087\n"
     ]
    }
   ],
   "source": [
    "# Test de normalidad de Shapiro-Wilk\n",
    "from scipy.stats import shapiro\n",
    "stat_ant, p_ant = shapiro(BBDD['Presion sistólica antes'])\n",
    "stat_des, p_des = shapiro(BBDD['Presión sistólica después'])\n",
    "print(f'Shapiro-Wilk Test para Presión Sistólica Antes: Estadístico={stat_ant:.4f}, p-valor={p_ant:.4f}')\n",
    "print(f'Shapiro-Wilk Test para Presión Sistólica Después: Estadístico={stat_des:.4f}, p-valor={p_des:.4f}')"
   ]
  },
  {
   "cell_type": "markdown",
   "id": "06a215e1",
   "metadata": {},
   "source": [
    "Dado que ambos p-valores son mayores a 0.05, no podemos rechazar la hipótesis nula y por ende, consideraremos que los datos que contienen información sobre la presión sistólica antes y después de la toma del fármaco se consideran normales."
   ]
  },
  {
   "cell_type": "markdown",
   "id": "21cab9ea",
   "metadata": {},
   "source": [
    "# Ejercicio 2\n",
    "\n",
    "Con los datos del fichero anterior, se quiere estudiar la relación existente \n",
    "entre la presión sistólica después de la toma del medicamento y el \n",
    "colesterol total del paciente en los pacientes jóvenes ( grupo 1) "
   ]
  },
  {
   "cell_type": "markdown",
   "id": "d927d68b",
   "metadata": {},
   "source": [
    "## a) Estudiar la relación lineal entre estas dos variables "
   ]
  },
  {
   "cell_type": "markdown",
   "id": "c10323a3",
   "metadata": {},
   "source": [
    "Primero representaremos los datos de forma gráfica con el objetivo de formular nuestras primeras hipótesis. Posteriormente, calcularemos la covarianza y el coeficiente de correlación para analizar la relación lineal entre el colesterol total y la presión sistólica después de la medición."
   ]
  },
  {
   "cell_type": "code",
   "execution_count": 37,
   "id": "1dc29cce",
   "metadata": {},
   "outputs": [
    {
     "data": {
      "image/png": "[encoded data removed]",
      "text/plain": [
       "<Figure size 640x480 with 1 Axes>"
      ]
     },
     "metadata": {},
     "output_type": "display_data"
    }
   ],
   "source": [
    "# Representación gráfica de la relación entre Colesterol Total y Presión Sistólica Después para el Grupo 1\n",
    "x = Grupo_1['Colesterol total']\n",
    "y = Grupo_1['Presión sistólica después']\n",
    "mmHg_desp_colesterol = pd.DataFrame({'Colesterol total': x, 'Presión sistólica después': y})\n",
    "mmHg_desp_colesterol.plot(kind='scatter', x='Colesterol total', y='Presión sistólica después', color='lightgreen')\n",
    "plt.title('Relación entre Colesterol Total y Presión Sistólica Después - Grupo 1')\n",
    "plt.xlabel('Colesterol Total (mg/dL)')\n",
    "plt.show()"
   ]
  },
  {
   "cell_type": "markdown",
   "id": "4a615924",
   "metadata": {},
   "source": [
    "Al observar la gráfica, se aprecia que a medida que aumenta el colesterol, también lo hace la presión sistólica, por lo que podemos suponer que ambas variables mantienen una relación directamente proporcional. Para confirmarlo, lo comprobaremos de manera analítica también. "
   ]
  },
  {
   "cell_type": "code",
   "execution_count": 38,
   "id": "fe9cfb35",
   "metadata": {},
   "outputs": [
    {
     "name": "stdout",
     "output_type": "stream",
     "text": [
      "Covarianza del Grupo 1: 81.52\n",
      "Coeficiente de correlación del Grupo 1: 0.75\n"
     ]
    }
   ],
   "source": [
    "# Cálculo de la covarianza y el coeficiente de correlación para el Grupo 1\n",
    "covarianza_1_desp = np.cov(Grupo_1['Colesterol total'], Grupo_1['Presión sistólica después'])[0][1]\n",
    "correlacion_1_desp = np.corrcoef(Grupo_1['Colesterol total'], Grupo_1['Presión sistólica después'])[0][1]\n",
    "print(f'Covarianza del Grupo 1: {covarianza_1_desp:.2f}')\n",
    "print(f'Coeficiente de correlación del Grupo 1: {correlacion_1_desp:.2f}')"
   ]
  },
  {
   "cell_type": "markdown",
   "id": "6e091c12",
   "metadata": {},
   "source": [
    "La covarianza presenta un valor positivo y considerablemente alto (81.52), lo que indica que ambas variables mantienen una relación directa: a medida que aumenta el colesterol, también lo hace la presión sistólica. Asimismo, el coeficiente de correlación obtenido (0.75) refleja una correlación positiva fuerte, lo que reafirma la hipótesis inicial."
   ]
  },
  {
   "cell_type": "markdown",
   "id": "0c89aaa2",
   "metadata": {},
   "source": [
    "## b) Obtener un modelo lineal que explica la presión sistólica del paciente joven a los 60 minutos de ingerir el medicamento en función de su colesterol total y realizar la estimación para un paciente del grupo 1 ( joven) cuyo colesterol total es 105 mg/Dl \n"
   ]
  },
  {
   "cell_type": "code",
   "execution_count": 39,
   "id": "a545da53",
   "metadata": {},
   "outputs": [
    {
     "data": {
      "text/html": [
       "<table class=\"simpletable\">\n",
       "<caption>OLS Regression Results</caption>\n",
       "<tr>\n",
       "  <th>Dep. Variable:</th>    <td>Presión sistólica después</td> <th>  R-squared:         </th> <td>   0.560</td>\n",
       "</tr>\n",
       "<tr>\n",
       "  <th>Model:</th>                       <td>OLS</td>            <th>  Adj. R-squared:    </th> <td>   0.549</td>\n",
       "</tr>\n",
       "<tr>\n",
       "  <th>Method:</th>                 <td>Least Squares</td>       <th>  F-statistic:       </th> <td>   48.40</td>\n",
       "</tr>\n",
       "<tr>\n",
       "  <th>Date:</th>                 <td>Thu, 23 Oct 2025</td>      <th>  Prob (F-statistic):</th> <td>2.81e-08</td>\n",
       "</tr>\n",
       "<tr>\n",
       "  <th>Time:</th>                     <td>22:24:39</td>          <th>  Log-Likelihood:    </th> <td> -129.17</td>\n",
       "</tr>\n",
       "<tr>\n",
       "  <th>No. Observations:</th>          <td>    40</td>           <th>  AIC:               </th> <td>   262.3</td>\n",
       "</tr>\n",
       "<tr>\n",
       "  <th>Df Residuals:</th>              <td>    38</td>           <th>  BIC:               </th> <td>   265.7</td>\n",
       "</tr>\n",
       "<tr>\n",
       "  <th>Df Model:</th>                  <td>     1</td>           <th>                     </th>     <td> </td>   \n",
       "</tr>\n",
       "<tr>\n",
       "  <th>Covariance Type:</th>          <td>nonrobust</td>         <th>                     </th>     <td> </td>   \n",
       "</tr>\n",
       "</table>\n",
       "<table class=\"simpletable\">\n",
       "<tr>\n",
       "          <td></td>            <th>coef</th>     <th>std err</th>      <th>t</th>      <th>P>|t|</th>  <th>[0.025</th>    <th>0.975]</th>  \n",
       "</tr>\n",
       "<tr>\n",
       "  <th>const</th>            <td>    7.7778</td> <td>   16.146</td> <td>    0.482</td> <td> 0.633</td> <td>  -24.909</td> <td>   40.464</td>\n",
       "</tr>\n",
       "<tr>\n",
       "  <th>Colesterol total</th> <td>    0.5987</td> <td>    0.086</td> <td>    6.957</td> <td> 0.000</td> <td>    0.424</td> <td>    0.773</td>\n",
       "</tr>\n",
       "</table>\n",
       "<table class=\"simpletable\">\n",
       "<tr>\n",
       "  <th>Omnibus:</th>       <td> 5.512</td> <th>  Durbin-Watson:     </th> <td>   1.694</td>\n",
       "</tr>\n",
       "<tr>\n",
       "  <th>Prob(Omnibus):</th> <td> 0.064</td> <th>  Jarque-Bera (JB):  </th> <td>   4.226</td>\n",
       "</tr>\n",
       "<tr>\n",
       "  <th>Skew:</th>          <td> 0.746</td> <th>  Prob(JB):          </th> <td>   0.121</td>\n",
       "</tr>\n",
       "<tr>\n",
       "  <th>Kurtosis:</th>      <td> 3.555</td> <th>  Cond. No.          </th> <td>3.06e+03</td>\n",
       "</tr>\n",
       "</table><br/><br/>Notes:<br/>[1] Standard Errors assume that the covariance matrix of the errors is correctly specified.<br/>[2] The condition number is large, 3.06e+03. This might indicate that there are<br/>strong multicollinearity or other numerical problems."
      ],
      "text/latex": [
       "\\begin{center}\n",
       "\\begin{tabular}{lclc}\n",
       "\\toprule\n",
       "\\textbf{Dep. Variable:}    & Presión sistólica después & \\textbf{  R-squared:         } &     0.560   \\\\\n",
       "\\textbf{Model:}            &            OLS            & \\textbf{  Adj. R-squared:    } &     0.549   \\\\\n",
       "\\textbf{Method:}           &       Least Squares       & \\textbf{  F-statistic:       } &     48.40   \\\\\n",
       "\\textbf{Date:}             &      Thu, 23 Oct 2025     & \\textbf{  Prob (F-statistic):} &  2.81e-08   \\\\\n",
       "\\textbf{Time:}             &          22:24:39         & \\textbf{  Log-Likelihood:    } &   -129.17   \\\\\n",
       "\\textbf{No. Observations:} &               40          & \\textbf{  AIC:               } &     262.3   \\\\\n",
       "\\textbf{Df Residuals:}     &               38          & \\textbf{  BIC:               } &     265.7   \\\\\n",
       "\\textbf{Df Model:}         &                1          & \\textbf{                     } &             \\\\\n",
       "\\textbf{Covariance Type:}  &         nonrobust         & \\textbf{                     } &             \\\\\n",
       "\\bottomrule\n",
       "\\end{tabular}\n",
       "\\begin{tabular}{lcccccc}\n",
       "                          & \\textbf{coef} & \\textbf{std err} & \\textbf{t} & \\textbf{P$> |$t$|$} & \\textbf{[0.025} & \\textbf{0.975]}  \\\\\n",
       "\\midrule\n",
       "\\textbf{const}            &       7.7778  &       16.146     &     0.482  &         0.633        &      -24.909    &       40.464     \\\\\n",
       "\\textbf{Colesterol total} &       0.5987  &        0.086     &     6.957  &         0.000        &        0.424    &        0.773     \\\\\n",
       "\\bottomrule\n",
       "\\end{tabular}\n",
       "\\begin{tabular}{lclc}\n",
       "\\textbf{Omnibus:}       &  5.512 & \\textbf{  Durbin-Watson:     } &    1.694  \\\\\n",
       "\\textbf{Prob(Omnibus):} &  0.064 & \\textbf{  Jarque-Bera (JB):  } &    4.226  \\\\\n",
       "\\textbf{Skew:}          &  0.746 & \\textbf{  Prob(JB):          } &    0.121  \\\\\n",
       "\\textbf{Kurtosis:}      &  3.555 & \\textbf{  Cond. No.          } & 3.06e+03  \\\\\n",
       "\\bottomrule\n",
       "\\end{tabular}\n",
       "%\\caption{OLS Regression Results}\n",
       "\\end{center}\n",
       "\n",
       "Notes: \\newline\n",
       " [1] Standard Errors assume that the covariance matrix of the errors is correctly specified. \\newline\n",
       " [2] The condition number is large, 3.06e+03. This might indicate that there are \\newline\n",
       " strong multicollinearity or other numerical problems."
      ],
      "text/plain": [
       "<class 'statsmodels.iolib.summary.Summary'>\n",
       "\"\"\"\n",
       "                                OLS Regression Results                               \n",
       "=====================================================================================\n",
       "Dep. Variable:     Presión sistólica después   R-squared:                       0.560\n",
       "Model:                                   OLS   Adj. R-squared:                  0.549\n",
       "Method:                        Least Squares   F-statistic:                     48.40\n",
       "Date:                       Thu, 23 Oct 2025   Prob (F-statistic):           2.81e-08\n",
       "Time:                               22:24:39   Log-Likelihood:                -129.17\n",
       "No. Observations:                         40   AIC:                             262.3\n",
       "Df Residuals:                             38   BIC:                             265.7\n",
       "Df Model:                                  1                                         \n",
       "Covariance Type:                   nonrobust                                         \n",
       "====================================================================================\n",
       "                       coef    std err          t      P>|t|      [0.025      0.975]\n",
       "------------------------------------------------------------------------------------\n",
       "const                7.7778     16.146      0.482      0.633     -24.909      40.464\n",
       "Colesterol total     0.5987      0.086      6.957      0.000       0.424       0.773\n",
       "==============================================================================\n",
       "Omnibus:                        5.512   Durbin-Watson:                   1.694\n",
       "Prob(Omnibus):                  0.064   Jarque-Bera (JB):                4.226\n",
       "Skew:                           0.746   Prob(JB):                        0.121\n",
       "Kurtosis:                       3.555   Cond. No.                     3.06e+03\n",
       "==============================================================================\n",
       "\n",
       "Notes:\n",
       "[1] Standard Errors assume that the covariance matrix of the errors is correctly specified.\n",
       "[2] The condition number is large, 3.06e+03. This might indicate that there are\n",
       "strong multicollinearity or other numerical problems.\n",
       "\"\"\""
      ]
     },
     "execution_count": 39,
     "metadata": {},
     "output_type": "execute_result"
    }
   ],
   "source": [
    "# Modelo de regresión lineal para el Grupo 1\n",
    "beta_0_1 = sm.add_constant(Grupo_1['Colesterol total'])\n",
    "presion_1_des = Grupo_1['Presión sistólica después']\n",
    "model_1 = sm.OLS(presion_1_des, beta_0_1).fit()\n",
    "model_1.summary()"
   ]
  },
  {
   "cell_type": "markdown",
   "id": "2f24b1a0",
   "metadata": {},
   "source": [
    "En nuestro modelo, la constante representa el nivel estimado de presión sistólica de un paciente joven después de la toma del medicamento cuando su colesterol es igual a 0 mg/dL. Este resultado carece de una interpretación lógica, ya que ninguna persona presenta un nivel de colesterol nulo. Además, el coeficiente no resulta significativo a ningún nivel de significación, por lo que no tiene una interpretación práctica.\n",
    "\n",
    "La pendiente, en cambio, indica que por cada 1 mg/dL adicional de colesterol, la presión sistólica aumenta en promedio 7.7778 mmHg. Este coeficiente sí es significativo a todos los niveles de significación habituales, lo que confirma la existencia de una relación lineal positiva entre ambas variables.\n",
    "\n",
    "Para estimar la presión sistólica de un paciente joven con un colesterol de 105 mg/dL, sustituimos en la siguiente ecuación:\n",
    "$$\n",
    "\\widehat{\\text{Presión Sistólica Después}}_{Grupo\\,1} = 7.7778 + 0.5987 \\times \\text{Colesterol Total}\n",
    "$$"
   ]
  },
  {
   "cell_type": "code",
   "execution_count": 40,
   "id": "52c45fc5",
   "metadata": {},
   "outputs": [
    {
     "name": "stdout",
     "output_type": "stream",
     "text": [
      "El nivel de presión sistólica estimado para un paciente joven con un colesterol de 105 mg/dL es de 70.64 mmHg.\n"
     ]
    }
   ],
   "source": [
    "# Estimación de la presión sistólica para un paciente joven con colesterol de 105 mg/dL\n",
    "print(f'El nivel de presión sistólica estimado para un paciente joven con un colesterol de 105 mg/dL es de {7.7778 + 0.5987 * 105:.2f} mmHg.')"
   ]
  },
  {
   "cell_type": "markdown",
   "id": "76ca0b0c",
   "metadata": {},
   "source": [
    "## c) ¿Qué tanto por ciento de la presión sistólica del paciente joven a los 60 minutos de ingerir el medicamento no queda explicado por el anterior modelo? ¿Cómo podrías mejorar el modelo? \n"
   ]
  },
  {
   "cell_type": "markdown",
   "id": "83b3c471",
   "metadata": {},
   "source": [
    "Para responder a esta pregunta, observamos el valor de R<sup>2</sup> del modelo, que indica que aproximadamente el 56% de la variabilidad en la presión sistólica del paciente joven después de la toma del medicamento es explicada por el nivel de colesterol (o 54.9% si consideramos el R<sup>2</sup> ajustado).  \n",
    "\n",
    "Por tanto, el 44% restante de la variación en la presión sistólica no queda explicado por este modelo, lo que sugiere que existen otros factores que influyen en la presión arterial y que no han sido considerados.  \n",
    "\n",
    "El modelo podría mejorarse incorporando variables adicionales relacionadas con la presión sistólica, como la edad, el peso, el sexo o los hábitos de vida (por ejemplo, actividad física o consumo de sal). Esto permitiría aumentar la capacidad explicativa del modelo y obtener estimaciones más precisas."
   ]
  },
  {
   "cell_type": "markdown",
   "id": "8db968ea",
   "metadata": {},
   "source": [
    "## d) Si aumentásemos el colesterol de un paciente en 5 mg/Dl ¿Qué variación experimentaría su presión sistólica después de 60 minutos de ingerir el medicamento?"
   ]
  },
  {
   "cell_type": "markdown",
   "id": "6ea3ca38",
   "metadata": {},
   "source": [
    "En este caso, vamos a calcular el aumento de la presión sistólica después de la ingesta del medicamento. Esto se calcula con la derivada del modelo que acabamos de estimar, de forma que la fórmula para el aumento de la presión sería la siguiente:\n",
    "$$\n",
    "\\Delta \\widehat{\\text{Presión Sistólica Después}} = \\beta_{1} \\, \\Delta \\text{Colesterol Total}\n",
    "$$"
   ]
  },
  {
   "cell_type": "code",
   "execution_count": 41,
   "id": "27621e85",
   "metadata": {},
   "outputs": [
    {
     "name": "stdout",
     "output_type": "stream",
     "text": [
      "El aumento estimado en la presión sistólica para un paciente joven con un aumento de colesterol de 5 mg/dL es de 2.99 mmHg.\n"
     ]
    }
   ],
   "source": [
    "# Estimación de la presión sistólica para un paciente joven con un aumento de colesterol de 5 mg/dL\n",
    "print(f'El aumento estimado en la presión sistólica para un paciente joven con un aumento de colesterol de 5 mg/dL es de {0.5987 * 5:.2f} mmHg.')"
   ]
  },
  {
   "cell_type": "markdown",
   "id": "f3d8e76e",
   "metadata": {},
   "source": [
    "# Ejercicio 3"
   ]
  },
  {
   "cell_type": "markdown",
   "id": "ec4b9363",
   "metadata": {},
   "source": [
    "## a) Se quiere estudiar si se puede admitir que la presión sistólica media en el momento de la ingestión de la población adulta (grupo 2) es 130 mm de Hg Obtener el intervalo de confianza al 95% y al 99% para el nivel medio de presión sistólica antes de la toma del medicamento en el grupo de los adultos y posteriormente contesta a la cuestión con los resultados obtenidos o mediante un contraste de hipótesis. "
   ]
  },
  {
   "cell_type": "markdown",
   "id": "044122f5",
   "metadata": {},
   "source": [
    "Para calcular el intervalo de confianza de la media poblacional, primero debemos determinar si la varianza poblacional es conocida o no.  \n",
    "En este caso, no lo es, ya que la varianza disponible proviene de una muestra de 100 individuos. Por tanto, al desconocer la varianza poblacional, el intervalo de confianza se expresa de la siguiente forma:\n",
    "\n",
    "$$\n",
    "IC_{(1 - \\alpha)} = \n",
    "\\bar{X} \\; \\pm \\; t_{\\alpha/2,\\, n-1} \\cdot \\frac{s}{\\sqrt{n}}\n",
    "$$\n",
    "\n",
    "Sin embargo, dado que contamos con una muestra grande (n ≥ 30), podemos aproximar la distribución t de Student por la normal estándar, y en consecuencia utilizar el valor crítico *z*<sub>α/2</sub> en lugar de *t*<sub>α/2, n−1</sub>."
   ]
  },
  {
   "cell_type": "code",
   "execution_count": 42,
   "id": "19321c92",
   "metadata": {},
   "outputs": [
    {
     "name": "stdout",
     "output_type": "stream",
     "text": [
      "IC del 95% para la media de la presión sistólica antes del medicamento en el Grupo 2: (123.97, 131.00)\n",
      "IC del 99% para la media de la presión sistólica antes del medicamento en el Grupo 2: (122.86, 132.10)\n"
     ]
    }
   ],
   "source": [
    "# Cálculo del IC de la media de la presión sistólica antes del medicamento para el Grupo 2\n",
    "from statsmodels.stats.weightstats import DescrStatsW\n",
    "ic_95_2_ant = sm.stats.DescrStatsW(Grupo_2['Presion sistólica antes']).zconfint_mean(alpha=0.05)\n",
    "ic_99_2_ant = sm.stats.DescrStatsW(Grupo_2['Presion sistólica antes']).zconfint_mean(alpha=0.01)\n",
    "print(f\"IC del 95% para la media de la presión sistólica antes del medicamento en el Grupo 2: ({float(ic_95_2_ant[0]):.2f}, {float(ic_95_2_ant[1]):.2f})\")\n",
    "print(f\"IC del 99% para la media de la presión sistólica antes del medicamento en el Grupo 2: ({float(ic_99_2_ant[0]):.2f}, {float(ic_99_2_ant[1]):.2f})\")"
   ]
  },
  {
   "cell_type": "markdown",
   "id": "a4cd2b11",
   "metadata": {},
   "source": [
    "Ambos intervalos de confianza incluyen el valor de 130 mmHg, por lo que, tanto para un nivel de confianza del 95% como del 99%, podemos admitir que la presión sistólica media antes de la toma del medicamento en la población adulta (Grupo 2) es de 130 mmHg. "
   ]
  },
  {
   "cell_type": "markdown",
   "id": "20ea89ef",
   "metadata": {},
   "source": [
    "## b) Obtener el intervalo de confianza al 95% para la diferencia de medias en la presión sistólica entre adultos y jóvenes después de la ingestión del medicamento. ¿Se puede concluir que después de la ingesta del medicamento la presión sistólica media de la población es distinta dependiendo de la edad? \n"
   ]
  },
  {
   "cell_type": "markdown",
   "id": "ebae9c43",
   "metadata": {},
   "source": [
    "Dado que no se conocen las varianzas poblacionales, pero se dispone de muestras grandes (n ≥ 30) y de tamaños similares, es posible aproximar el intervalo de confianza utilizando la distribución normal estándar. En este caso, el intervalo de confianza para la diferencia de medias al nivel (1−α) se expresa como:\n",
    "$$\n",
    "IC_{(1 - \\alpha)} = (\\bar{x}_1 - \\bar{x}_2) \\pm z_{\\alpha/2} \\cdot \n",
    "\\sqrt{\\frac{s_1^{2}}{n_1} + \\frac{s_2^{2}}{n_2}}\n",
    "$$"
   ]
  },
  {
   "cell_type": "code",
   "execution_count": 43,
   "id": "baaa7e51",
   "metadata": {},
   "outputs": [
    {
     "name": "stdout",
     "output_type": "stream",
     "text": [
      "IC del 95% para la diferencia de medias entre ambos grupos tras la administración del medicamento: (-8.82, 1.72)\n"
     ]
    }
   ],
   "source": [
    "# IC para la diferencia de medias entre ambos grupos tras la administración del medicamento\n",
    "from statsmodels.stats.weightstats import CompareMeans\n",
    "medias = CompareMeans(DescrStatsW(Grupo_1['Presión sistólica después']), DescrStatsW(Grupo_2['Presión sistólica después']))\n",
    "ic_95_diff = medias.zconfint_diff(alpha=0.05, alternative='two-sided', usevar='unequal')\n",
    "print(f\"IC del 95% para la diferencia de medias entre ambos grupos tras la administración del medicamento: ({float(ic_95_diff[0]):.2f}, {float(ic_95_diff[1]):.2f})\")"
   ]
  },
  {
   "cell_type": "markdown",
   "id": "a3355659",
   "metadata": {},
   "source": [
    "Dado que el intervalo contiene el valor 0, no hay evidencia estadísticamente significativa de que la presión sistólica media de la población sea distinta dependiendo de la edad. No podemos afirmar que el medicamento disminuya la presión sistólica."
   ]
  },
  {
   "cell_type": "markdown",
   "id": "141ddfbf",
   "metadata": {},
   "source": [
    "## c) Se quiere estudiar la proporción de la población con una presión sistólica inicial igual o superior a 130 mm de Hg (prehipertensión). A partir de la muestra del fichero (tomando todos los datos de presión sistólica antes de la toma del medicamento) obtener un intervalo de confianza al 99% de la proporción de la población con hipertensión y contrastar la hipótesis que el porcentaje de la población con presión sistólica superior o igual a 130 mm de Hg es 0.30 con nivel de  del 5%. \n"
   ]
  },
  {
   "cell_type": "markdown",
   "id": "8b2e7335",
   "metadata": {},
   "source": [
    "Dado que el tamaño muestral es suficientemente grande, podemos aplicar el teorema del límite central y utilizar la aproximación normal para estimar el intervalo de confianza de la proporción poblacional. En este caso, el intervalo de confianza al nivel (1−α) se calcula mediante la siguiente expresión:\n",
    "$$\n",
    "IC_{(1 - \\alpha)} = \n",
    "\\hat{p} \\pm z_{\\alpha/2} \\cdot \n",
    "\\sqrt{\\frac{\\hat{p}(1 - \\hat{p})}{n}}\n",
    "$$"
   ]
  },
  {
   "cell_type": "code",
   "execution_count": 44,
   "id": "c9ab4444",
   "metadata": {},
   "outputs": [
    {
     "name": "stdout",
     "output_type": "stream",
     "text": [
      "IC del 99% para la proporción de pacientes con hipertensión antes del medicamento: (0.2271, 0.4729)\n"
     ]
    }
   ],
   "source": [
    "# IC para la proporción de pacientes con hipertensión antes del medicamento\n",
    "from statsmodels.stats.proportion import proportion_confint\n",
    "n_prehipertension = len(BBDD[BBDD['Presion sistólica antes'] >= 130])\n",
    "ic_proporcion_prehipertension = proportion_confint(n_prehipertension, len(BBDD), alpha=0.01, method='normal')\n",
    "print(f\"IC del 99% para la proporción de pacientes con hipertensión antes del medicamento: ({ic_proporcion_prehipertension[0]:.4f}, {ic_proporcion_prehipertension[1]:.4f})\")"
   ]
  },
  {
   "cell_type": "markdown",
   "id": "76e53986",
   "metadata": {},
   "source": [
    "El intervalo de confianza obtenido incluye el valor 0.30, por lo que, en principio, no existe evidencia suficiente para rechazar la hipótesis nula. En consecuencia, podemos considerar que la proporción de individuos con presión sistólica igual o superior a 130 mmHg es coherente con el 30% planteado en la hipótesis."
   ]
  },
  {
   "cell_type": "code",
   "execution_count": 63,
   "id": "e11baaf4",
   "metadata": {},
   "outputs": [
    {
     "name": "stdout",
     "output_type": "stream",
     "text": [
      "Estadístico Z: 1.0482848367219182\n",
      "p-valor: 0.29450739368011025\n"
     ]
    }
   ],
   "source": [
    "# Contraste de hipótesis para la proporción de pacientes con hipertensión antes del medicamento\n",
    "from statsmodels.stats.proportion import proportions_ztest\n",
    "p0 = 0.30\n",
    "z_stat, p_value = proportions_ztest(n_prehipertension, len(BBDD), value=p0, alternative='two-sided')\n",
    "print(\"Estadístico Z:\", z_stat)\n",
    "print(\"p-valor:\", p_value)"
   ]
  },
  {
   "cell_type": "markdown",
   "id": "88b28432",
   "metadata": {},
   "source": [
    "Ya que el p-valor devuelto es mayor que cualquier nivel de significación, no rechazaremos la hipótesis nula. Por lo tanto, tenemos evidencia estadísticamente significativa de que el porcentaje de la población con prehipertensión es del 30%."
   ]
  },
  {
   "cell_type": "markdown",
   "id": "3428d19a",
   "metadata": {},
   "source": [
    "## d) (VOLUNTARIO) Por último, se quiere estudiar la eficacia del medicamento en la población adulta. ¿Existe variación significativa de la presión sistólica después de la toma del medicamento en la población del grupo 2? Plantea el correspondiente contraste de hipótesis  considerando un nivel de significación del 5%. Ayuda: Para contestar a la pregunta has de considerar la series de datos obtenidas a partir de las diferencias entre la presión sistólica antes de la toma y la presión sistólica al cabo de 60 minutos en el grupo de los adultos (contraste de muestras emparejadas)."
   ]
  },
  {
   "cell_type": "markdown",
   "id": "4760f795",
   "metadata": {},
   "source": [
    "En este apartado se analiza si el medicamento produce una variación significativa en la presión sistólica dentro del grupo de adultos.  Dado que las mediciones antes y después del tratamiento pertenecen a los mismos individuos, las observaciones no son independientes.  \n",
    "\n",
    "Por ello, no se utiliza un contraste para muestras independientes, sino un contraste de muestras emparejadas, que compara las medias de dos variables relacionadas midiendo las diferencias dentro de cada pareja de observaciones.\n",
    "\n",
    "El estadístico de contraste *t* se basa en las diferencias entre las mediciones antes y después del tratamiento:\n",
    "\n",
    "$$\n",
    "t = \\frac{\\bar{D} - \\mu_0}{s_D / \\sqrt{n}}\n",
    "$$\n",
    "\n",
    "El contraste implementado evalúa las siguientes hipótesis:\n",
    "\\begin{cases}\n",
    "H_0: \\mu_D = 0 & \\text{(no hay diferencia significativa entre antes y después)} \\\\\n",
    "H_1: \\mu_D \\neq 0 & \\text{(existe una diferencia significativa)}\n",
    "\\end{cases}"
   ]
  },
  {
   "cell_type": "code",
   "execution_count": 64,
   "id": "6067a457",
   "metadata": {},
   "outputs": [
    {
     "name": "stdout",
     "output_type": "stream",
     "text": [
      "Estadístico t: 3.7840\n",
      "p-valor: 0.0004\n"
     ]
    }
   ],
   "source": [
    "# Contraste de hipótesis para muestras emparejadas\n",
    "from scipy.stats import ttest_rel, t\n",
    "t_stat, p_val = ttest_rel(Grupo_2['Presion sistólica antes'], Grupo_2['Presión sistólica después'])\n",
    "print(f'Estadístico t: {t_stat:.4f}')\n",
    "print(f'p-valor: {p_val:.4f}')"
   ]
  },
  {
   "cell_type": "markdown",
   "id": "49b11706",
   "metadata": {},
   "source": [
    "Dado que el p-valor (0.0004) es menor que el nivel de significación habitual (α = 0.05), se rechaza la hipótesis nula.\n",
    "\n",
    "Esto indica que existe una diferencia significativa entre la presión sistólica antes y después de la administración del medicamento en la población adulta. En concreto, como el estadístico t es positivo, la media de las diferencias es mayor que cero, lo que implica que la presión sistólica disminuyó tras la toma del medicamento.\n",
    "\n",
    "Por tanto, el medicamento resulta eficaz para reducir la presión sistólica en la muestra de adultos analizada."
   ]
  }
 ],
 "metadata": {
  "kernelspec": {
   "display_name": "base",
   "language": "python",
   "name": "python3"
  },
  "language_info": {
   "codemirror_mode": {
    "name": "ipython",
    "version": 3
   },
   "file_extension": ".py",
   "mimetype": "text/x-python",
   "name": "python",
   "nbconvert_exporter": "python",
   "pygments_lexer": "ipython3",
   "version": "3.13.5"
  }
 },
 "nbformat": 4,
 "nbformat_minor": 5
}
